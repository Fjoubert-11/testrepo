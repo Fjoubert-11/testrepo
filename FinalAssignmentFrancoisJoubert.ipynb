{
 "cells": [
  {
   "cell_type": "markdown",
   "metadata": {},
   "source": [
    "<center>\n",
    "    <img src=\"https://cf-courses-data.s3.us.cloud-object-storage.appdomain.cloud/IBMDeveloperSkillsNetwork-DS0105EN-SkillsNetwork/labs/Module2/images/SN_web_lightmode.png\" width=\"300\" alt=\"cognitiveclass.ai logo\">\n",
    "</center>\n"
   ]
  },
  {
   "cell_type": "markdown",
   "metadata": {},
   "source": [
    "#### Add your code below following the instructions given in the course\n"
   ]
  },
  {
   "cell_type": "markdown",
   "metadata": {},
   "source": [
    "# My Jupyter Notebook on IBM Watson Studio"
   ]
  },
  {
   "cell_type": "markdown",
   "metadata": {},
   "source": [
    "**Francois Joubert**\n",
    "Data Scientist"
   ]
  },
  {
   "cell_type": "markdown",
   "metadata": {},
   "source": [
    "*I am interested in data science because of the clarity that data can give. The proof is in the pudding, or data in this case and I am fascinated by the interesting trends and insights that can be identified when taking a deeper look at the data.*"
   ]
  },
  {
   "cell_type": "markdown",
   "metadata": {},
   "source": [
    "### The code should formulate the first 10 numbers in the Fibonacci sequence"
   ]
  },
  {
   "cell_type": "code",
   "execution_count": 1,
   "metadata": {},
   "outputs": [
    {
     "data": {
      "text/html": [
       "<style>\n",
       ".list-inline {list-style: none; margin:0; padding: 0}\n",
       ".list-inline>li {display: inline-block}\n",
       ".list-inline>li:not(:last-child)::after {content: \"\\00b7\"; padding: 0 .5ex}\n",
       "</style>\n",
       "<ol class=list-inline><li>1</li><li>1</li><li>2</li><li>3</li><li>5</li><li>8</li><li>13</li><li>21</li><li>34</li><li>55</li></ol>\n"
      ],
      "text/latex": [
       "\\begin{enumerate*}\n",
       "\\item 1\n",
       "\\item 1\n",
       "\\item 2\n",
       "\\item 3\n",
       "\\item 5\n",
       "\\item 8\n",
       "\\item 13\n",
       "\\item 21\n",
       "\\item 34\n",
       "\\item 55\n",
       "\\end{enumerate*}\n"
      ],
      "text/markdown": [
       "1. 1\n",
       "2. 1\n",
       "3. 2\n",
       "4. 3\n",
       "5. 5\n",
       "6. 8\n",
       "7. 13\n",
       "8. 21\n",
       "9. 34\n",
       "10. 55\n",
       "\n",
       "\n"
      ],
      "text/plain": [
       " [1]  1  1  2  3  5  8 13 21 34 55"
      ]
     },
     "metadata": {},
     "output_type": "display_data"
    }
   ],
   "source": [
    "fib <- numeric(10)\n",
    "fib[1] <- 1\n",
    "fib[2] <- 1\n",
    "for (i in 3:10) {\n",
    "  fib[i] <- fib[i-1] + fib[i-2]\n",
    "}\n",
    "fib"
   ]
  },
  {
   "cell_type": "code",
   "execution_count": 2,
   "metadata": {},
   "outputs": [
    {
     "data": {
      "text/html": [
       "<style>\n",
       ".list-inline {list-style: none; margin:0; padding: 0}\n",
       ".list-inline>li {display: inline-block}\n",
       ".list-inline>li:not(:last-child)::after {content: \"\\00b7\"; padding: 0 .5ex}\n",
       "</style>\n",
       "<ol class=list-inline><li>1</li><li>2</li><li>1.5</li><li>1.66666666666667</li><li>1.6</li><li>1.625</li><li>1.61538461538462</li><li>1.61904761904762</li><li>1.61764705882353</li></ol>\n"
      ],
      "text/latex": [
       "\\begin{enumerate*}\n",
       "\\item 1\n",
       "\\item 2\n",
       "\\item 1.5\n",
       "\\item 1.66666666666667\n",
       "\\item 1.6\n",
       "\\item 1.625\n",
       "\\item 1.61538461538462\n",
       "\\item 1.61904761904762\n",
       "\\item 1.61764705882353\n",
       "\\end{enumerate*}\n"
      ],
      "text/markdown": [
       "1. 1\n",
       "2. 2\n",
       "3. 1.5\n",
       "4. 1.66666666666667\n",
       "5. 1.6\n",
       "6. 1.625\n",
       "7. 1.61538461538462\n",
       "8. 1.61904761904762\n",
       "9. 1.61764705882353\n",
       "\n",
       "\n"
      ],
      "text/plain": [
       "[1] 1.000000 2.000000 1.500000 1.666667 1.600000 1.625000 1.615385 1.619048\n",
       "[9] 1.617647"
      ]
     },
     "metadata": {},
     "output_type": "display_data"
    }
   ],
   "source": [
    "ratios <- fib[-1]/fib[-10]\n",
    "\n",
    "ratios"
   ]
  },
  {
   "cell_type": "markdown",
   "metadata": {},
   "source": [
    "This sequence converges to a common factor:\n",
    "1. 1\n",
    "2. 2\n",
    "3. 1.5\n",
    "4. 1.66667\n",
    "5. 1.6\n",
    "6. 1.625\n",
    "7. 1.6153846\n",
    "8. 1.61904761904762\n",
    "9. 1.61764705882353\n",
    "\n",
    "______________________________________________________________________________________________________________\n",
    "\n",
    "The ratio is calculated by dividing the newest element by the previous element:\n",
    "```\n",
    "ratios <- fib[-1]/fib[-10]```"
   ]
  }
 ],
 "metadata": {
  "kernelspec": {
   "display_name": "R",
   "language": "R",
   "name": "conda-env-r-r"
  },
  "language_info": {
   "codemirror_mode": "r",
   "file_extension": ".r",
   "mimetype": "text/x-r-source",
   "name": "R",
   "pygments_lexer": "r",
   "version": "3.5.1"
  }
 },
 "nbformat": 4,
 "nbformat_minor": 4
}
